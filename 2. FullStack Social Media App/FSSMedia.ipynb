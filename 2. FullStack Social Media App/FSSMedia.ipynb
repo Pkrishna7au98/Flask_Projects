{
 "cells": [
  {
   "cell_type": "code",
   "execution_count": null,
   "id": "a7d53600",
   "metadata": {},
   "outputs": [],
   "source": [
    "from flask import Flask, render_template, request, redirect\n",
    "from flask_sqlalchemy import SQLAlchemy \n",
    "\n",
    "app3 = Flask(__name__)\n",
    "app3.config['SQLALCHEMY_DATABASE_URI'] = 'mysql://root:@localhost/flask_projects'\n",
    "app3.config['SQLALCHEMY_TRACK_MODIFICATIONS'] = False\n",
    "\n",
    "db = SQLAlchemy(app3)\n",
    "\n",
    "class Posts(db.Model):\n",
    "    id = db.Column(db.Integer, primary_key = True)\n",
    "    name = db.Column(db.String(50), nullable = False)\n",
    "    content = db.Column(db.String(5500), nullable = False)\n",
    "\n",
    "@app3.route(\"/\", methods = [\"GET\", \"POST\"])\n",
    "def index():\n",
    "    \n",
    "    if request.method == \"GET\":\n",
    "        pass\n",
    "    \n",
    "    if request.method == \"POST\":\n",
    "        new_name = request.form.get(\"name\")\n",
    "        new_content = request.form.get(\"content\")\n",
    "        \n",
    "        new_post_obj = Posts(name = new_name , content = new_content)\n",
    "        db.session.add(new_post_obj)\n",
    "        db.session.commit()\n",
    "    All_posts = Posts.query.all()\n",
    "    return render_template(\"index.html\", All_posts = All_posts)\n",
    "\n",
    "app3.run()"
   ]
  },
  {
   "cell_type": "code",
   "execution_count": null,
   "id": "48c6a2a2",
   "metadata": {},
   "outputs": [],
   "source": []
  },
  {
   "cell_type": "code",
   "execution_count": null,
   "id": "a4dcf494",
   "metadata": {},
   "outputs": [],
   "source": []
  }
 ],
 "metadata": {
  "kernelspec": {
   "display_name": "Python 3",
   "language": "python",
   "name": "python3"
  }
 },
 "nbformat": 4,
 "nbformat_minor": 5
}
