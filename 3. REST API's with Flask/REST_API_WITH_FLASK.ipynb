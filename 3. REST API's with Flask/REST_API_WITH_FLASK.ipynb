{
 "cells": [
  {
   "cell_type": "code",
   "execution_count": 10,
   "id": "78b26892",
   "metadata": {
    "scrolled": false
   },
   "outputs": [
    {
     "name": "stdout",
     "output_type": "stream",
     "text": [
      " * Serving Flask app \"__main__\" (lazy loading)\n",
      " * Environment: production\n",
      "   WARNING: This is a development server. Do not use it in a production deployment.\n",
      "   Use a production WSGI server instead.\n",
      " * Debug mode: off\n"
     ]
    },
    {
     "name": "stderr",
     "output_type": "stream",
     "text": [
      " * Running on http://127.0.0.1:5000/ (Press CTRL+C to quit)\n",
      "127.0.0.1 - - [30/Nov/2021 14:20:10] \"GET /product HTTP/1.1\" 200 -\n",
      "127.0.0.1 - - [30/Nov/2021 14:20:16] \"DELETE /product/5 HTTP/1.1\" 200 -\n",
      "127.0.0.1 - - [30/Nov/2021 14:20:21] \"GET /product HTTP/1.1\" 200 -\n",
      "127.0.0.1 - - [30/Nov/2021 14:20:37] \"DELETE /product/2 HTTP/1.1\" 200 -\n",
      "127.0.0.1 - - [30/Nov/2021 14:20:40] \"GET /product HTTP/1.1\" 200 -\n"
     ]
    }
   ],
   "source": [
    "from flask import Flask, request, jsonify\n",
    "from flask_sqlalchemy import SQLAlchemy\n",
    "import os\n",
    "from flask_marshmallow import Marshmallow\n",
    "\n",
    "app4 = Flask(__name__)\n",
    "basedir = os.path.abspath(os.path.dirname('__file__'))\n",
    "app4.config['SQLALCHEMY_DATABASE_URI'] = 'sqlite:///' + os.path.join(basedir,'product')\n",
    "app4.config[\"SQLALCHEMY_TRACK_MODIFICATIONS\"] = False \n",
    "\n",
    "db = SQLAlchemy(app4)\n",
    "ma = Marshmallow(app4)\n",
    "\n",
    "class Product(db.Model):\n",
    "    id = db.Column(db.Integer , primary_key=True)\n",
    "    name = db.Column(db.String(50), unique=True)\n",
    "    description = db.Column(db.String(200), nullable = False)\n",
    "    price = db.Column(db.Float)\n",
    "    qty = db.Column(db.Integer)\n",
    "    \n",
    "    def __init__(self, name, description , price , qty):\n",
    "        self.name = name\n",
    "        self.description = description\n",
    "        self.price = price\n",
    "        self.qty = qty\n",
    "        \n",
    "class ProductSchema(ma.Schema):\n",
    "    class Meta:\n",
    "        fields = ('id', 'name', 'description' , 'price', 'qty')\n",
    "        \n",
    "Product_Schema = ProductSchema()\n",
    "Products_Schema = ProductSchema(many = True)        \n",
    "\n",
    "#Inserting a product\n",
    "@app4.route(\"/product\", methods= ['POST'])\n",
    "def add_product():\n",
    "    name = request.json['name']\n",
    "    description = request.json['description']\n",
    "    price = request.json['price']\n",
    "    qty = request.json['qty']\n",
    "\n",
    "    new_product = Product(name , description, price, qty)\n",
    "\n",
    "    db.session.add(new_product)\n",
    "    db.session.commit()\n",
    "    \n",
    "    return Product_Schema.jsonify(new_product)\n",
    "\n",
    "#Getting all the products\n",
    "@app4.route('/product', methods= ['GET'])\n",
    "def get_products():\n",
    "    all_products = Product.query.all()\n",
    "    result = Products_Schema.dump(all_products)\n",
    "    return jsonify(result)\n",
    "\n",
    "#Gettning a single product\n",
    "@app4.route('/product/<id>', methods= ['GET'])\n",
    "def get_product(id):\n",
    "    product = Product.query.get(id)\n",
    "    result = Product_Schema.dump(product)\n",
    "    return jsonify(result)\n",
    "\n",
    "#Updating a product\n",
    "@app4.route(\"/product/<id>\", methods= ['PUT'])\n",
    "def update(id):\n",
    "    product = Product.query.get(id)\n",
    "                                       \n",
    "    name = request.json['name']\n",
    "    description = request.json['description']\n",
    "    price = request.json['price']\n",
    "    qty = request.json['qty']\n",
    "    \n",
    "    product.name = name\n",
    "    product.description = description\n",
    "    product.price = price\n",
    "    product.qty = qty\n",
    "                                       \n",
    "    db.session.commit()\n",
    "    \n",
    "    return Product_Schema.jsonify(product)\n",
    "\n",
    "#Deleteing a product\n",
    "@app4.route('/product/<id>', methods= ['DELETE'])\n",
    "def delete_product(id):\n",
    "    product = Product.query.get(id)\n",
    "    db.session.delete(product)\n",
    "    db.session.commit()\n",
    "    \n",
    "    return Product_Schema.jsonify(product)\n",
    "\n",
    "app4.run()"
   ]
  },
  {
   "cell_type": "code",
   "execution_count": null,
   "id": "099ea442",
   "metadata": {},
   "outputs": [],
   "source": []
  },
  {
   "cell_type": "code",
   "execution_count": null,
   "id": "e46aedfa",
   "metadata": {},
   "outputs": [],
   "source": []
  }
 ],
 "metadata": {
  "kernelspec": {
   "display_name": "Python 3",
   "language": "python",
   "name": "python3"
  },
  "language_info": {
   "codemirror_mode": {
    "name": "ipython",
    "version": 3
   },
   "file_extension": ".py",
   "mimetype": "text/x-python",
   "name": "python",
   "nbconvert_exporter": "python",
   "pygments_lexer": "ipython3",
   "version": "3.8.8"
  }
 },
 "nbformat": 4,
 "nbformat_minor": 5
}
