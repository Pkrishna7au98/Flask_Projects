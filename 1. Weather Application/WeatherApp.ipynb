{
 "cells": [
  {
   "cell_type": "code",
   "execution_count": 17,
   "id": "ce49fe55",
   "metadata": {},
   "outputs": [
    {
     "name": "stdout",
     "output_type": "stream",
     "text": [
      " * Serving Flask app \"__main__\" (lazy loading)\n",
      " * Environment: production\n",
      "   WARNING: This is a development server. Do not use it in a production deployment.\n",
      "   Use a production WSGI server instead.\n",
      " * Debug mode: off\n"
     ]
    },
    {
     "name": "stderr",
     "output_type": "stream",
     "text": [
      " * Running on http://127.0.0.1:5000/ (Press CTRL+C to quit)\n",
      "INFO:werkzeug: * Running on http://127.0.0.1:5000/ (Press CTRL+C to quit)\n",
      "127.0.0.1 - - [29/Nov/2021 11:09:52] \"GET / HTTP/1.1\" 200 -\n",
      "INFO:werkzeug:127.0.0.1 - - [29/Nov/2021 11:09:52] \"GET / HTTP/1.1\" 200 -\n",
      "127.0.0.1 - - [29/Nov/2021 11:11:09] \"GET / HTTP/1.1\" 200 -\n",
      "INFO:werkzeug:127.0.0.1 - - [29/Nov/2021 11:11:09] \"GET / HTTP/1.1\" 200 -\n"
     ]
    }
   ],
   "source": [
    "import requests\n",
    "from flask import Flask, render_template, request\n",
    "from flask_sqlalchemy import SQLAlchemy \n",
    "\n",
    "app2 = Flask(__name__)\n",
    "app2.config['SQLALCHEMY_DATABASE_URI'] = 'mysql://root:@localhost/flask_projects'\n",
    "app2.config['SQLALCHEMY_TRACK_MODIFICATIONS'] = False\n",
    "\n",
    "db = SQLAlchemy(app2)\n",
    "\n",
    "class City(db.Model):\n",
    "    id = db.Column(db.Integer, primary_key = True)\n",
    "    name = db.Column(db.String(50), nullable = False)\n",
    "\n",
    "@app2.route('/', methods = [\"GET\", \"POST\"])\n",
    "def index():\n",
    "    cities = City.query.all()\n",
    "    \n",
    "    if request.method == \"POST\":\n",
    "        \n",
    "        new_city = request.form.get(\"city\")\n",
    "            \n",
    "        if new_city:\n",
    "            new_city_obj = City(name=new_city)\n",
    "            db.session.add(new_city_obj)\n",
    "            db.session.commit()\n",
    "            \n",
    "    url =  \"http://api.openweathermap.org/data/2.5/weather?q={}&units=imperial&APPID=e37f0aaeddfc8a1b6075e51706fc8414\"\n",
    "    \n",
    "    weather_Data = []\n",
    "    for city in cities:\n",
    "        \n",
    "        r = requests.get(url.format(city.name)).json()\n",
    "\n",
    "        weather = {\n",
    "                    \"city\": city.name,\n",
    "                    \"temperature\" : r['main']['temp'],\n",
    "                    \"description\" : r['weather'][0]['description'],\n",
    "                    \"icon\" : r['weather'][0]['icon']\n",
    "                  }\n",
    "        \n",
    "        weather_Data.append(weather)\n",
    "    return render_template('weather.html', weather_Data = weather_Data)\n",
    "\n",
    "app2.run()                                                         "
   ]
  }
 ],
 "metadata": {
  "kernelspec": {
   "display_name": "Python 3",
   "language": "python",
   "name": "python3"
  },
  "language_info": {
   "codemirror_mode": {
    "name": "ipython",
    "version": 3
   },
   "file_extension": ".py",
   "mimetype": "text/x-python",
   "name": "python",
   "nbconvert_exporter": "python",
   "pygments_lexer": "ipython3",
   "version": "3.8.8"
  }
 },
 "nbformat": 4,
 "nbformat_minor": 5
}
