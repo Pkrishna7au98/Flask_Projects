{
 "cells": [
  {
   "cell_type": "markdown",
   "id": "ae3f0276",
   "metadata": {},
   "source": [
    "### Step -1 : Deploying a Deep Learning Model on Heroku using Flask and Python"
   ]
  },
  {
   "cell_type": "code",
   "execution_count": 1,
   "id": "c9f3a5e3",
   "metadata": {},
   "outputs": [],
   "source": [
    "import pandas as pd\n",
    "import numpy as np\n",
    "from sklearn import linear_model\n",
    "import matplotlib.pyplot as plt"
   ]
  },
  {
   "cell_type": "code",
   "execution_count": 2,
   "id": "489d3ab7",
   "metadata": {},
   "outputs": [],
   "source": [
    "df = pd.read_csv('homeprices.csv')\n",
    "\n",
    "x=df[['area']]\n",
    "y=df[['price']]"
   ]
  },
  {
   "cell_type": "code",
   "execution_count": 3,
   "id": "ea014cfc",
   "metadata": {},
   "outputs": [
    {
     "data": {
      "text/plain": [
       "LinearRegression()"
      ]
     },
     "execution_count": 3,
     "metadata": {},
     "output_type": "execute_result"
    }
   ],
   "source": [
    "reg = linear_model.LinearRegression()\n",
    "reg.fit(x,y)"
   ]
  },
  {
   "cell_type": "code",
   "execution_count": 13,
   "id": "7fa1d02a",
   "metadata": {},
   "outputs": [
    {
     "name": "stdout",
     "output_type": "stream",
     "text": [
      "Accuracy is 95 %\n",
      "[[628715.75342466]]\n",
      "[[135.78767123]]\n",
      "[180616.43835616]\n"
     ]
    }
   ],
   "source": [
    "print(\"Accuracy is {} %\".format(int((reg.score(x,y)) * 100)))\n",
    "print(reg.predict([[3300]]))\n",
    "print(reg.coef_)\n",
    "print(reg.intercept_)"
   ]
  },
  {
   "cell_type": "code",
   "execution_count": 15,
   "id": "643a87a8",
   "metadata": {
    "scrolled": true
   },
   "outputs": [
    {
     "data": {
      "text/plain": [
       "['linear_Reg.pkl']"
      ]
     },
     "execution_count": 15,
     "metadata": {},
     "output_type": "execute_result"
    }
   ],
   "source": [
    "import joblib\n",
    "joblib.dump(reg, \"linear_Reg.pkl\")"
   ]
  },
  {
   "cell_type": "markdown",
   "id": "8c846460",
   "metadata": {},
   "source": [
    "#### For step 2- check the other file for flask code"
   ]
  },
  {
   "cell_type": "markdown",
   "id": "b4ae70a8",
   "metadata": {},
   "source": [
    "### Step-3 : Predicting the price/ Getting the output from our model"
   ]
  },
  {
   "cell_type": "code",
   "execution_count": 17,
   "id": "5fd6ce1e",
   "metadata": {
    "scrolled": true
   },
   "outputs": [
    {
     "name": "stdout",
     "output_type": "stream",
     "text": [
      "Price of the house should be [[710188.3561643835]]\n"
     ]
    }
   ],
   "source": [
    "import requests\n",
    "\n",
    "data = {\"area\": 3900}\n",
    "response = requests.post(\"{}/\".format(\"http://127.0.0.1:5000\"), json =data )\n",
    "print(\"Price of the house should be \"+ str(response.json()))"
   ]
  },
  {
   "cell_type": "code",
   "execution_count": null,
   "id": "cde2b40d",
   "metadata": {},
   "outputs": [],
   "source": []
  }
 ],
 "metadata": {
  "kernelspec": {
   "display_name": "Python 3",
   "language": "python",
   "name": "python3"
  },
  "language_info": {
   "codemirror_mode": {
    "name": "ipython",
    "version": 3
   },
   "file_extension": ".py",
   "mimetype": "text/x-python",
   "name": "python",
   "nbconvert_exporter": "python",
   "pygments_lexer": "ipython3",
   "version": "3.8.8"
  }
 },
 "nbformat": 4,
 "nbformat_minor": 5
}
