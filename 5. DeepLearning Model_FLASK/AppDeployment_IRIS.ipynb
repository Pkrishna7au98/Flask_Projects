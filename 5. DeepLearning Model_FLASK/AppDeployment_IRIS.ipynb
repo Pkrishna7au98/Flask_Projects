{
 "cells": [
  {
   "cell_type": "markdown",
   "id": "86bea825",
   "metadata": {},
   "source": [
    "### Step 1. Importing the required libraries"
   ]
  },
  {
   "cell_type": "code",
   "execution_count": 31,
   "id": "df8ed5ba",
   "metadata": {},
   "outputs": [],
   "source": [
    "from flask import Flask, render_template, session, url_for, redirect, request\n",
    "from flask_wtf import FlaskForm\n",
    "from wtforms import StringField, SubmitField\n",
    "from wtforms.validators import NumberRange\n",
    "import numpy as np\n",
    "from tensorflow.keras.models import load_model\n",
    "import joblib"
   ]
  },
  {
   "cell_type": "markdown",
   "id": "38b390f3",
   "metadata": {},
   "source": [
    "### Step 2. Defining a function for returning our model’s prediction\n"
   ]
  },
  {
   "cell_type": "code",
   "execution_count": 32,
   "id": "4fdeb365",
   "metadata": {},
   "outputs": [],
   "source": [
    "def return_prediction(model,scaler,sample_json):\n",
    " \n",
    "    s_len = sample_json['sepal_length']\n",
    "    s_wid = sample_json['sepal_width']\n",
    "    p_len = sample_json['petal_length']\n",
    "    p_wid = sample_json['petal_width']\n",
    "\n",
    "    flower = [[s_len,s_wid,p_len,p_wid]]\n",
    "    flower = scaler.transform(flower)\n",
    "\n",
    "    classes = np.array(['setosa', 'versicolor', 'virginica'])\n",
    "    class_ind = model.predict_classes(flower)\n",
    "\n",
    "    return classes[class_ind][0]"
   ]
  },
  {
   "cell_type": "markdown",
   "id": "8cc4e922",
   "metadata": {},
   "source": [
    "### Step 3. Defining the app routes and completing the app.py file"
   ]
  },
  {
   "cell_type": "code",
   "execution_count": 40,
   "id": "83e9be90",
   "metadata": {},
   "outputs": [
    {
     "name": "stdout",
     "output_type": "stream",
     "text": [
      " * Serving Flask app '__main__' (lazy loading)\n",
      " * Environment: production\n",
      "\u001b[31m   WARNING: This is a development server. Do not use it in a production deployment.\u001b[0m\n",
      "\u001b[2m   Use a production WSGI server instead.\u001b[0m\n",
      " * Debug mode: off\n"
     ]
    },
    {
     "name": "stderr",
     "output_type": "stream",
     "text": [
      " * Running on http://127.0.0.1:5000/ (Press CTRL+C to quit)\n",
      "127.0.0.1 - - [01/Dec/2021 23:12:43] \"GET / HTTP/1.1\" 200 -\n",
      "127.0.0.1 - - [01/Dec/2021 23:12:50] \"POST / HTTP/1.1\" 302 -\n",
      "C:\\Users\\2016m\\Anaconda3\\envs\\TensorFlow_kp\\lib\\site-packages\\sklearn\\base.py:445: UserWarning: X does not have valid feature names, but MinMaxScaler was fitted with feature names\n",
      "  warnings.warn(\n",
      "127.0.0.1 - - [01/Dec/2021 23:12:50] \"GET /prediction HTTP/1.1\" 200 -\n",
      "127.0.0.1 - - [01/Dec/2021 23:13:28] \"GET / HTTP/1.1\" 200 -\n",
      "127.0.0.1 - - [01/Dec/2021 23:13:38] \"POST / HTTP/1.1\" 302 -\n",
      "C:\\Users\\2016m\\Anaconda3\\envs\\TensorFlow_kp\\lib\\site-packages\\sklearn\\base.py:445: UserWarning: X does not have valid feature names, but MinMaxScaler was fitted with feature names\n",
      "  warnings.warn(\n",
      "127.0.0.1 - - [01/Dec/2021 23:13:38] \"GET /prediction HTTP/1.1\" 200 -\n"
     ]
    }
   ],
   "source": [
    "app9 = Flask(__name__)\n",
    "# Configure a secret SECRET_KEY\n",
    "app9.config['SECRET_KEY'] = 'someRandomKey'\n",
    "\n",
    "# Loading the model and scaler\n",
    "flower_model = load_model(\"final_iris_model.h5\")\n",
    "flower_scaler = joblib.load(\"iris_scaler.pkl\")\n",
    "\n",
    "# Now create a WTForm Class\n",
    "class FlowerForm(FlaskForm):\n",
    "    sep_len = StringField('Sepal-Length : ')\n",
    "    sep_wid = StringField('Sepal-Width : ')\n",
    "    pet_len = StringField('Petal-Length : ')\n",
    "    pet_wid = StringField('Petal-Width : ')\n",
    "    submit = SubmitField('Analyze Data')\n",
    "    \n",
    "@app9.route('/', methods=['GET', 'POST'])\n",
    "def index():\n",
    "    # Create instance of the form.\n",
    "    form = FlowerForm()\n",
    "    \n",
    "    # If the form is valid on submission\n",
    "    if form.validate_on_submit():\n",
    "        # Grab the data from the input on the form.\n",
    "        session['sep_len'] = form.sep_len.data\n",
    "        session['sep_wid'] = form.sep_wid.data\n",
    "        session['pet_len'] = form.pet_len.data\n",
    "        session['pet_wid'] = form.pet_wid.data\n",
    "        \n",
    "        return redirect(url_for(\"prediction\"))\n",
    "    \n",
    "    return render_template('home.html', form=form)\n",
    "\n",
    "@app9.route('/prediction')\n",
    "def prediction():\n",
    "    #Defining content dictionary\n",
    "    content = {}\n",
    "    content['sepal_length'] = float(session['sep_len'])\n",
    "    content['sepal_width'] = float(session['sep_wid'])\n",
    "    content['petal_length'] = float(session['pet_len'])\n",
    "    content['petal_width'] = float(session['pet_wid'])\n",
    "\n",
    "    result = return_prediction(model=flower_model,scaler=flower_scaler,sample_json=content)\n",
    "    \n",
    "    return render_template('prediction.html',result=result)\n",
    "\n",
    "app9.run()"
   ]
  },
  {
   "cell_type": "code",
   "execution_count": null,
   "id": "9c85c266",
   "metadata": {},
   "outputs": [],
   "source": []
  }
 ],
 "metadata": {
  "kernelspec": {
   "display_name": "Python 3 (ipykernel)",
   "language": "python",
   "name": "python3"
  },
  "language_info": {
   "codemirror_mode": {
    "name": "ipython",
    "version": 3
   },
   "file_extension": ".py",
   "mimetype": "text/x-python",
   "name": "python",
   "nbconvert_exporter": "python",
   "pygments_lexer": "ipython3",
   "version": "3.8.12"
  }
 },
 "nbformat": 4,
 "nbformat_minor": 5
}
